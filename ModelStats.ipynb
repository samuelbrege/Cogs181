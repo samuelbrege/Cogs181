{
 "cells": [
  {
   "cell_type": "code",
   "execution_count": 10,
   "id": "06f1e278",
   "metadata": {},
   "outputs": [],
   "source": [
    "import pandas as pd\n",
    "import numpy as np"
   ]
  },
  {
   "cell_type": "code",
   "execution_count": 11,
   "id": "f99db11f",
   "metadata": {},
   "outputs": [],
   "source": [
    "dfEpochBlink=pd.read_csv(\"epochBlink.csv\")\n",
    "dfEpochFP=pd.read_csv(\"epochFP.csv\")"
   ]
  },
  {
   "cell_type": "code",
   "execution_count": 12,
   "id": "92173e13",
   "metadata": {},
   "outputs": [],
   "source": [
    "EpochB=dfEpochBlink['2.206822276115417480e+01'].values\n",
    "EpochFP=dfEpochFP['3.040227794647216797e+01'].values"
   ]
  },
  {
   "cell_type": "code",
   "execution_count": 13,
   "id": "b2755efd",
   "metadata": {},
   "outputs": [
    {
     "name": "stdout",
     "output_type": "stream",
     "text": [
      "T-statistic: -43.408\n",
      "P-value: 0.000\n",
      "Reject the null hypothesis: There is a significant difference between the two datasets.\n"
     ]
    }
   ],
   "source": [
    "import pandas as pd\n",
    "import numpy as np\n",
    "from scipy import stats\n",
    "\n",
    "# Assuming dfTimeBlink and dfTimeresnet are already loaded as pandas DataFrames\n",
    "# Example data:\n",
    "# dfTimeBlink = pd.DataFrame({'time': [1.2, 1.3, 1.1, 1.25, 1.22]})\n",
    "# dfTimeresnet = pd.DataFrame({'time': [1.5, 1.6, 1.45, 1.55, 1.52]})\n",
    "\n",
    "# Perform the two-sample t-test\n",
    "t_statistic, p_value = stats.ttest_ind(EpochB, EpochFP)\n",
    "\n",
    "# Print the results\n",
    "print(f\"T-statistic: {t_statistic:.3f}\")\n",
    "print(f\"P-value: {p_value:.3f}\")\n",
    "\n",
    "# Interpret the results\n",
    "alpha = 0.05\n",
    "if p_value < alpha:\n",
    "    print(\"Reject the null hypothesis: There is a significant difference between the two datasets.\")\n",
    "else:\n",
    "    print(\"Fail to reject the null hypothesis: There is no significant difference between the two datasets.\")\n"
   ]
  },
  {
   "cell_type": "code",
   "execution_count": 14,
   "id": "2320a2f5",
   "metadata": {},
   "outputs": [],
   "source": [
    "dfTimeBlink=pd.read_csv(\"time_usage_Blink.csv\")\n",
    "dfTimeresnet=pd.read_csv(\"time_usage_resnet.csv\")\n",
    "dfTimeXNORnetB=pd.read_csv('time_usage_XNORBlink.csv')\n",
    "dfTimeBNIN=pd.read_csv('time_usage_XNORNIN.csv')"
   ]
  },
  {
   "cell_type": "code",
   "execution_count": 15,
   "id": "31143a95",
   "metadata": {},
   "outputs": [],
   "source": [
    "dfMemBlink=pd.read_csv(\"mem_usage_Blink.csv\")\n",
    "dfMemresnet=pd.read_csv(\"mem_usage_resnet.csv\")\n",
    "dfMemXNORnetB=pd.read_csv('mem_usage_XNORBlink.csv')\n",
    "dfMemBNIN=pd.read_csv('mem_usage_XNORNIN.csv')"
   ]
  },
  {
   "cell_type": "code",
   "execution_count": 16,
   "id": "a351ad55",
   "metadata": {},
   "outputs": [],
   "source": [
    "dfMemVGG=pd.read_csv('mem_usage_VGG1max.csv')"
   ]
  },
  {
   "cell_type": "code",
   "execution_count": 17,
   "id": "c59d7fac",
   "metadata": {},
   "outputs": [],
   "source": [
    "dfTimeVGG=pd.read_csv('time_usage_VGG1max.csv')"
   ]
  },
  {
   "cell_type": "code",
   "execution_count": 18,
   "id": "01ab017e",
   "metadata": {},
   "outputs": [],
   "source": [
    "MemArrayBlink=dfMemBlink['1.689785156250000000e+02'].values\n",
    "MemArrayresnet=dfMemresnet['1.720917968750000000e+02'].values\n",
    "MemArrayXNORBLINK=dfMemXNORnetB['1.464550781250000000e+02'].values\n",
    "MemArrayXNORNORNIN=dfMemBNIN['3.938373535156250000e+03'].values\n",
    "MemArrayVGG=dfMemVGG['2.933592285156250000e+03']"
   ]
  },
  {
   "cell_type": "markdown",
   "id": "6f473aa5",
   "metadata": {},
   "source": [
    "Inference Memory Usage for Blink Variants"
   ]
  },
  {
   "cell_type": "code",
   "execution_count": 40,
   "id": "bb68b583",
   "metadata": {},
   "outputs": [
    {
     "data": {
      "image/png": "[encoded data removed]",
      "text/plain": [
       "<Figure size 432x288 with 1 Axes>"
      ]
     },
     "metadata": {
      "needs_background": "light"
     },
     "output_type": "display_data"
    }
   ],
   "source": [
    "import matplotlib.pyplot as plt\n",
    "import seaborn as sns\n",
    "# Convert the numpy arrays to a pandas DataFrame\n",
    "df = pd.DataFrame({'Model':   ['FP Blink'] * len(MemArrayresnet)+['Blink'] * len(MemArrayBlink)+ ['BinaryBlink']*len(MemArrayXNORBLINK)    ,\n",
    "                   'Inference Memory Usage (MB)': np.concatenate((MemArrayresnet,MemArrayBlink,MemArrayXNORBLINK))})\n",
    "\n",
    "# Create the bar plot using seaborn\n",
    "sns.barplot(x='Model', y='Inference Memory Usage (MB)', data=df)\n",
    "\n",
    "# Show the plot\n",
    "plt.show()"
   ]
  },
  {
   "cell_type": "markdown",
   "id": "705e658c",
   "metadata": {},
   "source": [
    "Inference Memory Usage for all 5 models"
   ]
  },
  {
   "cell_type": "code",
   "execution_count": 41,
   "id": "470af65f",
   "metadata": {},
   "outputs": [
    {
     "data": {
      "image/png": "[encoded data removed]",
      "text/plain": [
       "<Figure size 432x288 with 1 Axes>"
      ]
     },
     "metadata": {
      "needs_background": "light"
     },
     "output_type": "display_data"
    }
   ],
   "source": [
    "import matplotlib.pyplot as plt\n",
    "import seaborn as sns\n",
    "# Convert the numpy arrays to a pandas DataFrame\n",
    "df = pd.DataFrame({'Model': ['VGG']*len(MemArrayXNORNORNIN)+  ['XNOR-Net NIN'] *len(MemArrayXNORNORNIN)+ ['FP Blink'] * len(MemArrayresnet)+['Blink'] * len(MemArrayBlink)+ ['BinaryBlink']*len(MemArrayXNORBLINK)    ,\n",
    "                   'Inference Memory Usage (MB)': np.concatenate((MemArrayVGG,MemArrayXNORNORNIN,MemArrayresnet,MemArrayBlink,MemArrayXNORBLINK))})\n",
    "\n",
    "# Create the bar plot using seaborn\n",
    "sns.barplot(x='Model', y='Inference Memory Usage (MB)', data=df)\n",
    "\n",
    "# Show the plot\n",
    "plt.show()"
   ]
  },
  {
   "cell_type": "markdown",
   "id": "29921250",
   "metadata": {},
   "source": [
    "##TIME"
   ]
  },
  {
   "cell_type": "code",
   "execution_count": 21,
   "id": "b9e42eee",
   "metadata": {},
   "outputs": [],
   "source": [
    "TimeArrayVGG=dfTimeVGG['4.948323730468750000e+03'].values"
   ]
  },
  {
   "cell_type": "code",
   "execution_count": 22,
   "id": "9a091bb2",
   "metadata": {},
   "outputs": [],
   "source": [
    "TimeArrayBlink=dfTimeBlink['1.139994628906250000e+03'].values"
   ]
  },
  {
   "cell_type": "code",
   "execution_count": 23,
   "id": "6d837a8e",
   "metadata": {},
   "outputs": [],
   "source": [
    "TimeArrayResnet=dfTimeresnet['1.097954345703125000e+03'].values"
   ]
  },
  {
   "cell_type": "code",
   "execution_count": 24,
   "id": "6b300b70",
   "metadata": {},
   "outputs": [],
   "source": [
    "TimeArrayBlinkXNOR=dfTimeXNORnetB['1.092860961914062500e+03'].values"
   ]
  },
  {
   "cell_type": "code",
   "execution_count": 25,
   "id": "d7da5eb4",
   "metadata": {},
   "outputs": [],
   "source": [
    "TimeArrayXNORNIN=dfTimeBNIN['1.192487915039062500e+03'].values"
   ]
  },
  {
   "cell_type": "code",
   "execution_count": 26,
   "id": "0f54aec7",
   "metadata": {},
   "outputs": [
    {
     "name": "stdout",
     "output_type": "stream",
     "text": [
      "T-statistic: -5.879\n",
      "P-value: 0.000\n",
      "Reject the null hypothesis: There is a significant difference between the two datasets.\n"
     ]
    }
   ],
   "source": [
    "import pandas as pd\n",
    "import numpy as np\n",
    "from scipy import stats\n",
    "\n",
    "# Assuming dfTimeBlink and dfTimeresnet are already loaded as pandas DataFrames\n",
    "# Example data:\n",
    "# dfTimeBlink = pd.DataFrame({'time': [1.2, 1.3, 1.1, 1.25, 1.22]})\n",
    "# dfTimeresnet = pd.DataFrame({'time': [1.5, 1.6, 1.45, 1.55, 1.52]})\n",
    "\n",
    "# Perform the two-sample t-test\n",
    "t_statistic, p_value = stats.ttest_ind(TimeArrayBlink, TimeArrayResnet)\n",
    "\n",
    "# Print the results\n",
    "print(f\"T-statistic: {t_statistic:.3f}\")\n",
    "print(f\"P-value: {p_value:.3f}\")\n",
    "\n",
    "# Interpret the results\n",
    "alpha = 0.05\n",
    "if p_value < alpha:\n",
    "    print(\"Reject the null hypothesis: There is a significant difference between the two datasets.\")\n",
    "else:\n",
    "    print(\"Fail to reject the null hypothesis: There is no significant difference between the two datasets.\")\n"
   ]
  },
  {
   "cell_type": "code",
   "execution_count": 27,
   "id": "eedda50f",
   "metadata": {},
   "outputs": [
    {
     "name": "stdout",
     "output_type": "stream",
     "text": [
      "T-statistic: 7.898\n",
      "P-value: 0.000\n",
      "Reject the null hypothesis: There is a significant difference between the two datasets.\n"
     ]
    }
   ],
   "source": [
    "import pandas as pd\n",
    "import numpy as np\n",
    "from scipy import stats\n",
    "\n",
    "# Assuming dfTimeBlink and dfTimeresnet are already loaded as pandas DataFrames\n",
    "# Example data:\n",
    "# dfTimeBlink = pd.DataFrame({'time': [1.2, 1.3, 1.1, 1.25, 1.22]})\n",
    "# dfTimeresnet = pd.DataFrame({'time': [1.5, 1.6, 1.45, 1.55, 1.52]})\n",
    "\n",
    "# Perform the two-sample t-test\n",
    "t_statistic, p_value = stats.ttest_ind(TimeArrayBlink, TimeArrayBlinkXNOR)\n",
    "\n",
    "# Print the results\n",
    "print(f\"T-statistic: {t_statistic:.3f}\")\n",
    "print(f\"P-value: {p_value:.3f}\")\n",
    "\n",
    "# Interpret the results\n",
    "alpha = 0.05\n",
    "if p_value < alpha:\n",
    "    print(\"Reject the null hypothesis: There is a significant difference between the two datasets.\")\n",
    "else:\n",
    "    print(\"Fail to reject the null hypothesis: There is no significant difference between the two datasets.\")\n"
   ]
  },
  {
   "cell_type": "code",
   "execution_count": 28,
   "id": "853602dd",
   "metadata": {},
   "outputs": [
    {
     "name": "stdout",
     "output_type": "stream",
     "text": [
      "Sample mean: 1110.417\n",
      "Confidence interval (95.0%): (1108.8205583968809, 1112.0135042596823)\n"
     ]
    }
   ],
   "source": [
    "import numpy as np\n",
    "from scipy import stats\n",
    "\n",
    "# Sample data\n",
    "data = np.array([1.2, 1.3, 1.1, 1.25, 1.22])\n",
    "\n",
    "# Compute the sample mean and standard error of the mean (sem)\n",
    "mean = np.mean(TimeArrayBlink)\n",
    "semB = stats.sem(TimeArrayBlink)\n",
    "\n",
    "# Set the desired confidence level (e.g., 95%)\n",
    "confidence_level = 0.95\n",
    "degrees_of_freedom = len(TimeArrayBlink) - 1\n",
    "\n",
    "# Compute the confidence interval\n",
    "margin_of_error = semB * stats.t.ppf((1 + confidence_level) / 2, degrees_of_freedom)\n",
    "confidence_interval = (mean - margin_of_error, mean + margin_of_error)\n",
    "\n",
    "# Print the results\n",
    "print(f\"Sample mean: {mean:.3f}\")\n",
    "print(f\"Confidence interval ({confidence_level * 100}%): {confidence_interval}\")\n"
   ]
  },
  {
   "cell_type": "code",
   "execution_count": 29,
   "id": "ea3266d5",
   "metadata": {},
   "outputs": [
    {
     "name": "stdout",
     "output_type": "stream",
     "text": [
      "Sample mean: 1117.663\n",
      "Confidence interval (95.0%): (1115.842307634824, 1119.4836993596336)\n"
     ]
    }
   ],
   "source": [
    "import numpy as np\n",
    "from scipy import stats\n",
    "\n",
    "# Sample data\n",
    "data = np.array([1.2, 1.3, 1.1, 1.25, 1.22])\n",
    "\n",
    "# Compute the sample mean and standard error of the mean (sem)\n",
    "mean = np.mean(TimeArrayResnet)\n",
    "semR = stats.sem(TimeArrayResnet)\n",
    "\n",
    "# Set the desired confidence level (e.g., 95%)\n",
    "confidence_level = 0.95\n",
    "degrees_of_freedom = len(TimeArrayResnet) - 1\n",
    "\n",
    "# Compute the confidence interval\n",
    "margin_of_error = semR * stats.t.ppf((1 + confidence_level) / 2, degrees_of_freedom)\n",
    "confidence_interval = (mean - margin_of_error, mean + margin_of_error)\n",
    "\n",
    "# Print the results\n",
    "print(f\"Sample mean: {mean:.3f}\")\n",
    "print(f\"Confidence interval ({confidence_level * 100}%): {confidence_interval}\")\n"
   ]
  },
  {
   "cell_type": "code",
   "execution_count": 30,
   "id": "5c1737c1",
   "metadata": {},
   "outputs": [
    {
     "name": "stdout",
     "output_type": "stream",
     "text": [
      "Sample mean: 4967.146\n",
      "Confidence interval (95.0%): (4964.087820246193, 4970.20503695258)\n"
     ]
    }
   ],
   "source": [
    "import numpy as np\n",
    "from scipy import stats\n",
    "\n",
    "\n",
    "# Compute the sample mean and standard error of the mean (sem)\n",
    "mean = np.mean(TimeArrayVGG)\n",
    "semV = stats.sem(TimeArrayVGG)\n",
    "\n",
    "# Set the desired confidence level (e.g., 95%)\n",
    "confidence_level = 0.95\n",
    "degrees_of_freedom = len(TimeArrayVGG) - 1\n",
    "\n",
    "# Compute the confidence interval\n",
    "margin_of_error = semV * stats.t.ppf((1 + confidence_level) / 2, degrees_of_freedom)\n",
    "confidence_interval = (mean - margin_of_error, mean + margin_of_error)\n",
    "\n",
    "# Print the results\n",
    "print(f\"Sample mean: {mean:.3f}\")\n",
    "print(f\"Confidence interval ({confidence_level * 100}%): {confidence_interval}\")"
   ]
  },
  {
   "cell_type": "code",
   "execution_count": 91,
   "id": "a3cbddb5",
   "metadata": {},
   "outputs": [
    {
     "name": "stdout",
     "output_type": "stream",
     "text": [
      "Sample mean: 1101.368\n",
      "Confidence interval (95.0%): (1099.7803547152037, 1102.9548823605103)\n"
     ]
    }
   ],
   "source": [
    "import numpy as np\n",
    "from scipy import stats\n",
    "\n",
    "\n",
    "# Compute the sample mean and standard error of the mean (sem)\n",
    "mean = np.mean(TimeArrayBlinkXNOR)\n",
    "semXb = stats.sem(TimeArrayBlinkXNOR)\n",
    "\n",
    "# Set the desired confidence level (e.g., 95%)\n",
    "confidence_level = 0.95\n",
    "degrees_of_freedom = len(TimeArrayBlinkXNOR) - 1\n",
    "\n",
    "# Compute the confidence interval\n",
    "margin_of_error = semXb * stats.t.ppf((1 + confidence_level) / 2, degrees_of_freedom)\n",
    "confidence_interval = (mean - margin_of_error, mean + margin_of_error)\n",
    "\n",
    "# Print the results\n",
    "print(f\"Sample mean: {mean:.3f}\")\n",
    "print(f\"Confidence interval ({confidence_level * 100}%): {confidence_interval}\")"
   ]
  },
  {
   "cell_type": "code",
   "execution_count": 32,
   "id": "30edc071",
   "metadata": {},
   "outputs": [
    {
     "name": "stdout",
     "output_type": "stream",
     "text": [
      "Sample mean: 1203.350\n",
      "Confidence interval (95.0%): (1201.7410435063782, 1204.9590368300758)\n"
     ]
    }
   ],
   "source": [
    "import numpy as np\n",
    "from scipy import stats\n",
    "\n",
    "\n",
    "# Compute the sample mean and standard error of the mean (sem)\n",
    "mean = np.mean(TimeArrayXNORNIN)\n",
    "semX = stats.sem(TimeArrayXNORNIN)\n",
    "\n",
    "# Set the desired confidence level (e.g., 95%)\n",
    "confidence_level = 0.95\n",
    "degrees_of_freedom = len(TimeArrayXNORNIN) - 1\n",
    "\n",
    "# Compute the confidence interval\n",
    "margin_of_error = semX * stats.t.ppf((1 + confidence_level) / 2, degrees_of_freedom)\n",
    "confidence_interval = (mean - margin_of_error, mean + margin_of_error)\n",
    "\n",
    "# Print the results\n",
    "print(f\"Sample mean: {mean:.3f}\")\n",
    "print(f\"Confidence interval ({confidence_level * 100}%): {confidence_interval}\")"
   ]
  },
  {
   "cell_type": "markdown",
   "id": "55ce32b1",
   "metadata": {},
   "source": [
    "Inference Time for Blink Variants"
   ]
  },
  {
   "cell_type": "code",
   "execution_count": 43,
   "id": "4e9db38a",
   "metadata": {},
   "outputs": [
    {
     "data": {
      "image/png": "[encoded data removed]",
      "text/plain": [
       "<Figure size 432x288 with 1 Axes>"
      ]
     },
     "metadata": {
      "needs_background": "light"
     },
     "output_type": "display_data"
    }
   ],
   "source": [
    "import matplotlib.pyplot as plt\n",
    "\n",
    "# Convert the numpy arrays to a pandas DataFrame\n",
    "df = pd.DataFrame({'Model':  ['FP Blink'] * len(TimeArrayResnet)+['Blink'] * len(TimeArrayBlink)+ ['BinaryBlink']*len(TimeArrayBlinkXNOR)    ,\n",
    "                   'Inference Time (ms)': np.concatenate((TimeArrayResnet,TimeArrayBlink,TimeArrayBlinkXNOR))})\n",
    "\n",
    "# Create the bar plot using seaborn\n",
    "sns.barplot(data=df,x='Model', y='Inference Time (ms)',ci='sd')\n",
    "\n",
    "# Show the plot\n",
    "plt.show()"
   ]
  },
  {
   "cell_type": "markdown",
   "id": "f127fd71",
   "metadata": {},
   "source": [
    "Inference Time for all tested models"
   ]
  },
  {
   "cell_type": "code",
   "execution_count": 42,
   "id": "b9bfb529",
   "metadata": {},
   "outputs": [
    {
     "data": {
      "image/png": "[encoded data removed]",
      "text/plain": [
       "<Figure size 432x288 with 1 Axes>"
      ]
     },
     "metadata": {
      "needs_background": "light"
     },
     "output_type": "display_data"
    }
   ],
   "source": [
    "import matplotlib.pyplot as plt\n",
    "\n",
    "# Convert the numpy arrays to a pandas DataFrame\n",
    "df = pd.DataFrame({'Model': ['VGG']*len(MemArrayXNORNORNIN)+  ['XNOR-Net NIN'] *len(MemArrayXNORNORNIN)+ ['FP Blink'] * len(TimeArrayResnet)+['Blink'] * len(TimeArrayBlink)+ ['BinaryBlink']*len(TimeArrayBlinkXNOR)    ,\n",
    "                   'Inference Time (ms)': np.concatenate((TimeArrayVGG,TimeArrayXNORNIN,TimeArrayResnet,TimeArrayBlink,TimeArrayBlinkXNOR))})\n",
    "\n",
    "# Create the bar plot using seaborn\n",
    "sns.barplot(data=df,x='Model', y='Inference Time (ms)',ci='sd')\n",
    "\n",
    "# Show the plot\n",
    "plt.show()"
   ]
  },
  {
   "cell_type": "code",
   "execution_count": null,
   "id": "fdf837bf",
   "metadata": {},
   "outputs": [],
   "source": [
    "import matplotlib.pyplot as plt\n",
    "\n",
    "# Convert the numpy arrays to a pandas DataFrame\n",
    "df = pd.DataFrame({'Model':  ['Resnet'] * len(TimeArrayResnet)+['Blink'] * len(TimeArrayBlink)+ ['BinaryBlink']*len(TimeArrayBlinkXNOR)    ,\n",
    "                   'Inference Time (ms)': np.concatenate((TimeArrayResnet,TimeArrayBlink,TimeArrayBlinkXNOR))})\n",
    "\n",
    "# Create the bar plot using seaborn\n",
    "sns.barplot(data=df,x='Model', y='Inference Time (ms)',ci='sd')\n",
    "\n",
    "# Show the plot\n",
    "plt.show()"
   ]
  },
  {
   "cell_type": "code",
   "execution_count": 30,
   "id": "f830b85f",
   "metadata": {},
   "outputs": [
    {
     "name": "stdout",
     "output_type": "stream",
     "text": [
      "Sample mean: 2306.805\n",
      "Confidence interval (95.0%): (2298.8436704629435, 2314.766512794196)\n"
     ]
    }
   ],
   "source": [
    "import numpy as np\n",
    "from scipy import stats\n",
    "dfMemresnet=pd.read_csv(\"mem_usage_resnet.csv\")\n",
    "dfMemBlink=pd.read_csv(\"mem_usage_Blink.csv\")\n",
    "# Sample data\n",
    "\n",
    "\n",
    "data = np.array([1.2, 1.3, 1.1, 1.25, 1.22])\n",
    "\n",
    "# Compute the sample mean and standard error of the mean (sem)\n",
    "mean = np.mean(TimeArrayBlink)\n",
    "sem = stats.sem(TimeArrayBlink)\n",
    "\n",
    "# Set the desired confidence level (e.g., 95%)\n",
    "confidence_level = 0.95\n",
    "degrees_of_freedom = len(TimeArrayBlink) - 1\n",
    "\n",
    "# Compute the confidence interval\n",
    "margin_of_error = sem * stats.t.ppf((1 + confidence_level) / 2, degrees_of_freedom)\n",
    "confidence_interval = (mean - margin_of_error, mean + margin_of_error)\n",
    "\n",
    "# Print the results\n",
    "print(f\"Sample mean: {mean:.3f}\")\n",
    "print(f\"Confidence interval ({confidence_level * 100}%): {confidence_interval}\")\n"
   ]
  }
 ],
 "metadata": {
  "kernelspec": {
   "display_name": "Python 3 (clean)",
   "language": "python",
   "name": "python3_clean"
  },
  "language_info": {
   "codemirror_mode": {
    "name": "ipython",
    "version": 3
   },
   "file_extension": ".py",
   "mimetype": "text/x-python",
   "name": "python",
   "nbconvert_exporter": "python",
   "pygments_lexer": "ipython3",
   "version": "3.9.5"
  }
 },
 "nbformat": 4,
 "nbformat_minor": 5
}
